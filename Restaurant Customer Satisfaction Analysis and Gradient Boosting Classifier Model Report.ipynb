{
 "cells": [
  {
   "cell_type": "markdown",
   "id": "5a2edc13-3b57-4906-b4e3-c8f3bc7d7640",
   "metadata": {},
   "source": [
    "## Restaurant Customer Satisfaction Analysis and Gradient Boosting Classifier Model Report"
   ]
  },
  {
   "cell_type": "markdown",
   "id": "f6823d2d-c627-4434-b047-707706de5e22",
   "metadata": {},
   "source": [
    "## 1. Introduction"
   ]
  },
  {
   "cell_type": "markdown",
   "id": "3392d76c-0a5a-48e1-8fa2-60e5d38da2d7",
   "metadata": {},
   "source": [
    "This report provides an in-depth analysis of the restaurant customer satisfaction dataset and the implementation of a Gradient Boosting Classifier model. The objective is to analyze the dataset, perform preprocessing, build a classification model, and evaluate its performance."
   ]
  },
  {
   "cell_type": "markdown",
   "id": "8ffe7ab6-10f0-4e98-81e7-9b4bad55edfc",
   "metadata": {},
   "source": [
    "## 2. Libraries Used"
   ]
  },
  {
   "cell_type": "markdown",
   "id": "d512899f-2053-44d2-87e3-21dfaf9f48fc",
   "metadata": {},
   "source": [
    "The following libraries were used in this project:"
   ]
  },
  {
   "cell_type": "code",
   "execution_count": 6,
   "id": "43137627-dd34-43d4-937c-d31741c732bc",
   "metadata": {},
   "outputs": [],
   "source": [
    "import pandas as pd\n",
    "import numpy as np\n",
    "import seaborn as sns\n",
    "from sklearn.model_selection import train_test_split\n",
    "from sklearn.ensemble import GradientBoostingClassifier\n",
    "from sklearn.metrics import accuracy_score, classification_report, confusion_matrix\n",
    "from sklearn.impute import SimpleImputer\n",
    "from sklearn.preprocessing import LabelEncoder, StandardScaler"
   ]
  },
  {
   "cell_type": "markdown",
   "id": "520fe002-3db5-41cb-8e0a-34f72dcc0abb",
   "metadata": {},
   "source": [
    "## 3. Dataset Overview"
   ]
  },
  {
   "cell_type": "markdown",
   "id": "51424682-7a31-4f5e-8f7b-2cf76f947edf",
   "metadata": {},
   "source": [
    "The dataset used in this project is related to customer satisfaction in restaurants. It includes multiple attributes that may influence a customer's satisfaction level."
   ]
  },
  {
   "cell_type": "markdown",
   "id": "27760c76-41a0-4e8a-be7f-7ef0fbf1ab1c",
   "metadata": {},
   "source": [
    "### 3.1 Number of Columns  \n",
    "\n",
    "The dataset consists of multiple columns representing **customer details, dining experience, and satisfaction levels**.  \n",
    "\n",
    "### 3.2 Relationship Between Columns  \n",
    "\n",
    "- **Demographic information** such as age and gender may influence customer satisfaction.  \n",
    "- **Service quality and food quality** may have a direct impact on the satisfaction level.  \n",
    "- **Wait time, pricing, and ambiance** are also key factors affecting customer experience.  \n",
    "- The target variable, **HighSatisfaction**, indicates whether a customer had a high satisfaction level or not.  \n"
   ]
  },
  {
   "cell_type": "markdown",
   "id": "9c49d1ba-4d29-464d-b8f3-c81100e0c622",
   "metadata": {},
   "source": [
    "## 4. Basic Analysis"
   ]
  },
  {
   "cell_type": "markdown",
   "id": "cdfe86e1-1d66-41ff-b360-a3dfce1d24af",
   "metadata": {},
   "source": [
    "The dataset was loaded and examined using the following functions:"
   ]
  },
  {
   "cell_type": "code",
   "execution_count": 8,
   "id": "41297546-4fa4-43e2-835f-6217f8c0932c",
   "metadata": {},
   "outputs": [
    {
     "name": "stdout",
     "output_type": "stream",
     "text": [
      "   CustomerID  Age  Gender  Income VisitFrequency  AverageSpend  \\\n",
      "0         654   35    Male   83380         Weekly     27.829142   \n",
      "1         655   19    Male   43623         Rarely    115.408622   \n",
      "2         656   41  Female   83737         Weekly    106.693771   \n",
      "3         657   43    Male   96768         Rarely     43.508508   \n",
      "4         658   55  Female   67937        Monthly    148.084627   \n",
      "\n",
      "  PreferredCuisine TimeOfVisit  GroupSize DiningOccasion  MealType  \\\n",
      "0          Chinese   Breakfast          3       Business  Takeaway   \n",
      "1         American      Dinner          1         Casual   Dine-in   \n",
      "2         American      Dinner          6    Celebration   Dine-in   \n",
      "3           Indian       Lunch          1    Celebration   Dine-in   \n",
      "4          Chinese   Breakfast          1       Business  Takeaway   \n",
      "\n",
      "   OnlineReservation  DeliveryOrder  LoyaltyProgramMember   WaitTime  \\\n",
      "0                  0              1                     1  43.523929   \n",
      "1                  0              0                     0  57.524294   \n",
      "2                  0              1                     0  48.682623   \n",
      "3                  0              0                     0   7.552993   \n",
      "4                  0              0                     1  37.789041   \n",
      "\n",
      "   ServiceRating  FoodRating  AmbianceRating  HighSatisfaction  \n",
      "0              2           5               4                 0  \n",
      "1              5           5               3                 0  \n",
      "2              3           4               5                 0  \n",
      "3              4           5               1                 0  \n",
      "4              2           3               5                 0  \n",
      "      CustomerID  Age  Gender  Income VisitFrequency  AverageSpend  \\\n",
      "1495        2149   39    Male  114857        Monthly    163.015254   \n",
      "1496        2150   37  Female  133506         Weekly    190.991911   \n",
      "1497        2151   46    Male  119159        Monthly    150.088604   \n",
      "1498        2152   24    Male   27970         Weekly    196.363626   \n",
      "1499        2153   51    Male  148333         Weekly    171.119498   \n",
      "\n",
      "     PreferredCuisine TimeOfVisit  GroupSize DiningOccasion  MealType  \\\n",
      "1495         American       Lunch          2       Business   Dine-in   \n",
      "1496          Italian       Lunch          4         Casual  Takeaway   \n",
      "1497         American       Lunch          4         Casual   Dine-in   \n",
      "1498          Italian      Dinner          6         Casual   Dine-in   \n",
      "1499          Chinese   Breakfast          4         Casual   Dine-in   \n",
      "\n",
      "      OnlineReservation  DeliveryOrder  LoyaltyProgramMember   WaitTime  \\\n",
      "1495                  0              1                     1   7.206275   \n",
      "1496                  0              0                     0  37.863952   \n",
      "1497                  0              1                     0   3.925785   \n",
      "1498                  1              1                     0  24.228038   \n",
      "1499                  1              1                     1  39.402163   \n",
      "\n",
      "      ServiceRating  FoodRating  AmbianceRating  HighSatisfaction  \n",
      "1495              1           2               1                 0  \n",
      "1496              5           2               2                 0  \n",
      "1497              3           3               3                 1  \n",
      "1498              2           2               4                 1  \n",
      "1499              4           5               4                 1  \n",
      "<class 'pandas.core.frame.DataFrame'>\n",
      "RangeIndex: 1500 entries, 0 to 1499\n",
      "Data columns (total 19 columns):\n",
      " #   Column                Non-Null Count  Dtype  \n",
      "---  ------                --------------  -----  \n",
      " 0   CustomerID            1500 non-null   int64  \n",
      " 1   Age                   1500 non-null   int64  \n",
      " 2   Gender                1500 non-null   object \n",
      " 3   Income                1500 non-null   int64  \n",
      " 4   VisitFrequency        1500 non-null   object \n",
      " 5   AverageSpend          1500 non-null   float64\n",
      " 6   PreferredCuisine      1500 non-null   object \n",
      " 7   TimeOfVisit           1500 non-null   object \n",
      " 8   GroupSize             1500 non-null   int64  \n",
      " 9   DiningOccasion        1500 non-null   object \n",
      " 10  MealType              1500 non-null   object \n",
      " 11  OnlineReservation     1500 non-null   int64  \n",
      " 12  DeliveryOrder         1500 non-null   int64  \n",
      " 13  LoyaltyProgramMember  1500 non-null   int64  \n",
      " 14  WaitTime              1500 non-null   float64\n",
      " 15  ServiceRating         1500 non-null   int64  \n",
      " 16  FoodRating            1500 non-null   int64  \n",
      " 17  AmbianceRating        1500 non-null   int64  \n",
      " 18  HighSatisfaction      1500 non-null   int64  \n",
      "dtypes: float64(2), int64(11), object(6)\n",
      "memory usage: 222.8+ KB\n",
      "None\n",
      "        CustomerID          Age         Income  AverageSpend    GroupSize  \\\n",
      "count  1500.000000  1500.000000    1500.000000   1500.000000  1500.000000   \n",
      "mean   1403.500000    43.832000   85921.890000    105.659004     5.035333   \n",
      "std     433.157015    14.967157   38183.051749     52.381849     2.558864   \n",
      "min     654.000000    18.000000   20012.000000     10.306127     1.000000   \n",
      "25%    1028.750000    31.750000   52444.000000     62.287907     3.000000   \n",
      "50%    1403.500000    44.000000   85811.000000    104.626408     5.000000   \n",
      "75%    1778.250000    57.000000  119159.250000    148.649330     7.000000   \n",
      "max    2153.000000    69.000000  149875.000000    199.973527     9.000000   \n",
      "\n",
      "       OnlineReservation  DeliveryOrder  LoyaltyProgramMember     WaitTime  \\\n",
      "count        1500.000000    1500.000000           1500.000000  1500.000000   \n",
      "mean            0.296667       0.405333              0.480000    30.163550   \n",
      "std             0.456941       0.491120              0.499766    17.214184   \n",
      "min             0.000000       0.000000              0.000000     0.001380   \n",
      "25%             0.000000       0.000000              0.000000    15.235423   \n",
      "50%             0.000000       0.000000              0.000000    30.044055   \n",
      "75%             1.000000       1.000000              1.000000    45.285649   \n",
      "max             1.000000       1.000000              1.000000    59.970762   \n",
      "\n",
      "       ServiceRating   FoodRating  AmbianceRating  HighSatisfaction  \n",
      "count    1500.000000  1500.000000     1500.000000       1500.000000  \n",
      "mean        3.044000     2.997333        2.987333          0.134000  \n",
      "std         1.423405     1.418920        1.450716          0.340766  \n",
      "min         1.000000     1.000000        1.000000          0.000000  \n",
      "25%         2.000000     2.000000        2.000000          0.000000  \n",
      "50%         3.000000     3.000000        3.000000          0.000000  \n",
      "75%         4.000000     4.000000        4.000000          0.000000  \n",
      "max         5.000000     5.000000        5.000000          1.000000  \n"
     ]
    }
   ],
   "source": [
    "data = pd.read_csv(r\"C:\\Users\\devad\\Downloads\\restaurant_customer_satisfaction.csv\")\n",
    "print(data.head())\n",
    "print(data.tail())\n",
    "print(data.info())\n",
    "print(data.describe())"
   ]
  },
  {
   "cell_type": "markdown",
   "id": "5bccac84-9d79-42eb-b5e8-1be3e2245138",
   "metadata": {},
   "source": [
    "### 4.1 Checking for Null Values"
   ]
  },
  {
   "cell_type": "code",
   "execution_count": null,
   "id": "823ffe9b-baa3-4ff3-bb57-7f5dfb4b1170",
   "metadata": {},
   "outputs": [],
   "source": [
    "print(data.isnull().sum())"
   ]
  },
  {
   "cell_type": "markdown",
   "id": "5e55004a-9a3d-45ed-943b-23c1cc784e2d",
   "metadata": {},
   "source": [
    "The dataset contains missing values in some columns."
   ]
  },
  {
   "cell_type": "markdown",
   "id": "7d838caa-4ca8-4397-98b4-c4413cdd3c51",
   "metadata": {},
   "source": [
    "## 5. Data Preprocessing"
   ]
  },
  {
   "cell_type": "markdown",
   "id": "a3f856e0-1be0-4d03-afcd-613db681db21",
   "metadata": {},
   "source": [
    "Since the dataset contains categorical variables, we used Label Encoding to convert them into numeric values:"
   ]
  },
  {
   "cell_type": "code",
   "execution_count": null,
   "id": "8c3b64db-8154-441c-9b48-5956d377086e",
   "metadata": {},
   "outputs": [],
   "source": [
    "le = LabelEncoder()\n",
    "data['Name'] = le.fit_transform(data['Name'])\n",
    "data['Cabin'] = le.fit_transform(data['Cabin'])\n",
    "data['Ticket'] = le.fit_transform(data['Ticket'])"
   ]
  },
  {
   "cell_type": "markdown",
   "id": "b0092bab-772e-492d-a6a9-3b464ad99bd1",
   "metadata": {},
   "source": [
    "## 6. Model Building  \n",
    "\n",
    "The target variable **HighSatisfaction** is separated from the feature set.  \n",
    "\n",
    "```python\n",
    "x = data.drop(['HighSatisfaction'], axis=1)  \n",
    "y = data['HighSatisfaction']  \n"
   ]
  },
  {
   "cell_type": "markdown",
   "id": "a77648f1-c6e3-40ab-9db1-12804903d3da",
   "metadata": {},
   "source": [
    "### 6.1 Splitting Data into Training and Testing Sets  \n",
    "\n",
    "```python\n",
    "x_train, x_test, y_train, y_test = train_test_split(x, y, test_size=0.2, random_state=0)  \n"
   ]
  },
  {
   "cell_type": "markdown",
   "id": "784c41a0-5ac4-4245-bbe2-f610b9081abf",
   "metadata": {},
   "source": [
    "## 6.2 Applying Gradient Boosting Classifier"
   ]
  },
  {
   "cell_type": "code",
   "execution_count": null,
   "id": "cfcf0bdd-92ea-41f1-b6c9-d2d7fb760f11",
   "metadata": {},
   "outputs": [],
   "source": [
    "gbc = GradientBoostingClassifier(learning_rate=0.3, n_estimators=100, max_depth=3, min_samples_split=2, min_samples_leaf=1, ccp_alpha=10)\n",
    "model = gbc.fit(x_train, y_train)"
   ]
  },
  {
   "cell_type": "markdown",
   "id": "a9859d9e-aba8-4c64-8159-77f56457f657",
   "metadata": {},
   "source": [
    "## 7. Model Evaluation"
   ]
  },
  {
   "cell_type": "markdown",
   "id": "e4ca3aba-7d10-45c1-854d-6280e14ae6e3",
   "metadata": {},
   "source": [
    "### 7.1 Predictions"
   ]
  },
  {
   "cell_type": "code",
   "execution_count": null,
   "id": "5f03308e-3384-48e9-ab0a-70f30a645bdf",
   "metadata": {},
   "outputs": [],
   "source": [
    "y_pred = model.predict(x_test)"
   ]
  },
  {
   "cell_type": "markdown",
   "id": "f32c261e-c7eb-46d8-9899-0818c8b6ced6",
   "metadata": {},
   "source": [
    "### 7.2 Accuracy Score"
   ]
  },
  {
   "cell_type": "code",
   "execution_count": null,
   "id": "982fce8d-6526-43ec-95b0-47504820bf3c",
   "metadata": {},
   "outputs": [],
   "source": [
    "ass = accuracy_score(y_test, y_pred) * 100\n",
    "print(f\"Accuracy_Score = {ass}\")"
   ]
  },
  {
   "cell_type": "markdown",
   "id": "61077047-eff4-4e20-a18d-6f125bf4d831",
   "metadata": {},
   "source": [
    "Accuracy_Score = 86.66666666666667"
   ]
  },
  {
   "cell_type": "markdown",
   "id": "53009849-5872-4fea-b292-54773d548fab",
   "metadata": {},
   "source": [
    "### 7.3 Classification Report"
   ]
  },
  {
   "cell_type": "code",
   "execution_count": null,
   "id": "cafbe605-0a70-42bf-80f1-0f2e5638bc3f",
   "metadata": {},
   "outputs": [],
   "source": [
    "print(classification_report(y_test, y_pred))"
   ]
  },
  {
   "cell_type": "markdown",
   "id": "ddae7553-4696-4f1a-9da5-cda834c803a9",
   "metadata": {},
   "source": [
    "## 8. Conclusion"
   ]
  },
  {
   "cell_type": "markdown",
   "id": "775dd423-1f8c-4fd3-acce-4cb656cbc27d",
   "metadata": {},
   "source": [
    "## Conclusion  \n",
    "\n",
    "- The dataset was analyzed, and missing values were handled appropriately.  \n",
    "- Categorical variables were encoded using **Label Encoding**.  \n",
    "- A **Gradient Boosting Classifier** was implemented to predict customer satisfaction.  \n",
    "- The model achieved an **accuracy of 86.66%**.  \n",
    "- Future improvements can be made by **tuning hyperparameters** or trying alternative classification algorithms.  \n",
    "\n",
    "This report provides a comprehensive analysis and evaluation of the restaurant customer satisfaction dataset using a Gradient Boosting Classifier.\n",
    "\n"
   ]
  },
  {
   "cell_type": "code",
   "execution_count": null,
   "id": "043f8a1a-ced5-4707-97d5-1f8a79393463",
   "metadata": {},
   "outputs": [],
   "source": []
  }
 ],
 "metadata": {
  "kernelspec": {
   "display_name": "Python 3 (ipykernel)",
   "language": "python",
   "name": "python3"
  },
  "language_info": {
   "codemirror_mode": {
    "name": "ipython",
    "version": 3
   },
   "file_extension": ".py",
   "mimetype": "text/x-python",
   "name": "python",
   "nbconvert_exporter": "python",
   "pygments_lexer": "ipython3",
   "version": "3.12.4"
  }
 },
 "nbformat": 4,
 "nbformat_minor": 5
}
